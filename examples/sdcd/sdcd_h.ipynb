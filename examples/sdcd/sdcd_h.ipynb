{
 "cells": [
  {
   "cell_type": "code",
   "execution_count": 1,
   "metadata": {},
   "outputs": [
    {
     "name": "stderr",
     "output_type": "stream",
     "text": [
      "No GPU automatically detected. Setting SETTINGS.GPU to 0, and SETTINGS.NJOBS to cpu_count.\n"
     ]
    }
   ],
   "source": [
    "# Import all the necessary modules\n",
    "%load_ext autoreload\n",
    "%autoreload 2\n",
    "from dagrad.hfunction.h_functions import SCCPowerIteration\n",
    "from dagrad.hfunction.h_functions import h_fn\n",
    "import torch"
   ]
  },
  {
   "cell_type": "code",
   "execution_count": 3,
   "metadata": {},
   "outputs": [
    {
     "name": "stdout",
     "output_type": "stream",
     "text": [
      "W_pred 1:\n",
      "sdcd h: 0.0\n",
      "logdet h: 0.0\n",
      "logdet_abs h: 0.0\n",
      "h_exp_sq: 0.0\n",
      "W_pred 2:\n",
      "sdcd h: 0.0\n",
      "logdet h: -2.220446049250313e-16\n",
      "logdet_abs h: 2.7755575615628914e-16\n",
      "h_exp_sq: 0.0\n",
      "W_pred 3:\n",
      "sdcd h: 100.0\n",
      "logdet h: inf\n",
      "logdet_abs h: inf\n",
      "h_exp_sq: 1.7182818284590446\n",
      "W_pred 4:\n",
      "sdcd h: 50.0\n",
      "logdet h: 0.5753641449035616\n",
      "logdet_abs h: 1.3862943611198908\n",
      "h_exp_sq: 0.5680508333754819\n",
      "W_pred 5:\n",
      "sdcd h: 0.0\n",
      "logdet h: -3.153658987716302\n",
      "logdet_abs h: -1.3716431217425378\n",
      "h_exp_sq: 14.818528744311003\n"
     ]
    }
   ],
   "source": [
    "W_preds = [\n",
    "    # DAG 1\n",
    "    torch.tensor([\n",
    "    [ 0.,  0.,  0.,  0.,  0.,  0.,  0.,  0.,  0.,  0.],\n",
    "    [ 0.,  0.,  0.,  0.,  0.,  0.,  0.,  0.,  0.,  0.],\n",
    "    [ 0., -1.92773958,  0., -1.58384229,  0.,  0.,  0.,  0.,  0.,  2.19178483],\n",
    "    [ 0.,  0.,  0.,  0.,  0.,  0.,  0.,  0.,  0.,  0.],\n",
    "    [-1.40118736,  0.,  0.,  0.,  0., -1.16847115,  0.,  0.,  0.,  0.],\n",
    "    [ 0.,  0.,  0.,  0.,  0.,  0.,  0.,  0.,  0.,  0.],\n",
    "    [ 0.,  0.,  0.48648503,  0.,  0.,  0.,  0.,  0.,  0.,  0.],\n",
    "    [ 0.,  0.,  0.,  0.,  0.,  0.,  0.,  0.,  0.,  0.],\n",
    "    [ 0.,  0.,  1.67483952,  0.,  0.,  0.,  0., -0.36516031,  0.,  1.49810611],\n",
    "    [ 0.,  0.,  0.,  0.,  0.,  0.,  0.,  0.,  0.,  0.]\n",
    "], dtype=torch.double),\n",
    "    # DAG 2\n",
    "    torch.tensor([\n",
    "    [ 0.,  0.,  0.,  0.,  0.,  0.,  0.,  0.,  0.,  0.],\n",
    "    [ 0.,  0.,  0.,  0.,  0.,  0.,  0.,  0.,  0.,  0.],\n",
    "    [ 0.,  0.,  0.,  0.,  0.,  0.,  0.,  0.,  0.,  0.],\n",
    "    [ 0.,  0.,  0.,  0.,  0.,  0.,  0.,  0.,  0.,  0.],\n",
    "    [ 0.39283375, -1.77910505, -1.30054712, -1.34660752,  0.,  0.43409608,  0.,  1.80742869,  1.17600714,  0.],\n",
    "    [ 0.,  0.,  0.,  0.,  0.,  0.,  0.,  0.,  0.,  0.],\n",
    "    [ 0.60381409,  0.,  0.,  0.,  0.,  0.,  0.,  0.,  0.,  1.7855964],\n",
    "    [ 0.,  0.,  0.,  0.,  0.,  0.,  0.,  0.,  0.,  0.],\n",
    "    [ 0.,  0.,  0.,  0.,  0.,  0.,  0.,  0.,  0.,  0.],\n",
    "    [ 0.,  0.,  0.,  0.,  0.,  0.,  0.,  0.,  0.,  0.]\n",
    "], dtype=torch.double),\n",
    "    # Non-DAGs\n",
    "    torch.tensor([\n",
    "    [ 1.,  0.,  0.,  0.,  0.,  0.,  0.,  0.,  0.,  0.],\n",
    "    [ 0.,  0.,  0.,  0.,  0.,  0.,  0.,  0.,  0.,  0.],\n",
    "    [ 0., -1.92773958,  0., -1.58384229,  0.,  0.,  0.,  0.,  0.,  2.19178483],\n",
    "    [ 0.,  0.,  0.,  0.,  0.,  0.,  0.,  0.,  0.,  0.],\n",
    "    [-1.40118736,  0.,  0.,  0.,  0., -1.16847115,  0.,  0.,  0.,  0.],\n",
    "    [ 0.,  0.,  0.,  0.,  0.,  0.,  0.,  0.,  0.,  0.],\n",
    "    [ 0.,  0.,  0.48648503,  0.,  0.,  0.,  0.,  0.,  0.,  0.],\n",
    "    [ 0.,  0.,  0.,  0.,  0.,  0.,  0.,  0.,  0.,  0.],\n",
    "    [ 0.,  0.,  1.67483952,  0.,  0.,  0.,  0., -0.36516031,  0.,  1.49810611],\n",
    "    [ 0.,  0.,  0.,  0.,  0.,  0.,  0.,  0.,  0.,  0.]\n",
    "], dtype=torch.double),\n",
    "    torch.tensor([\n",
    "    [ 0.5,  0.,  0.,  0.,  0.,  0.,  0.,  0.,  0.,  0.],\n",
    "    [ 0.,  -0.5,  0.,  0.,  0.,  0.,  0.,  0.,  0.,  0.],\n",
    "    [ 0.,  0.,  0,  0.,  0.,  0.,  0.,  0.,  0.,  0.],\n",
    "    [ 0.,  0.,  0.,  0.,  0.,  0.,  0.,  0.,  0.,  0.],\n",
    "    [ 0.39283375, -1.77910505, -1.30054712, -1.34660752,  0.,  0.43409608,  0.,  1.80742869,  1.17600714,  0.],\n",
    "    [ 0.,  0.,  0.,  0.,  0.,  0.,  0.,  0.,  0.,  0.],\n",
    "    [ 0.60381409,  0.,  0.,  0.,  0.,  0.,  0.,  0.,  0.,  1.7855964],\n",
    "    [ 0.,  0.,  0.,  0.,  0.,  0.,  0.,  0.,  0.,  0.],\n",
    "    [ 0.,  0.,  0.,  0.,  0.,  0.,  0.,  0.,  0.,  0.],\n",
    "    [ 0.,  0.,  0.,  0.,  0.,  0.,  0.,  0.,  0.,  0.]\n",
    "], dtype=torch.double),\n",
    "torch.tensor([\n",
    "    [ 0.,  1.3,  0.,  0.,  0.,  0.,  0.,  0.,  0.,  0.],\n",
    "    [ 0.,  0.,  -1.1,  0.,  0.,  0.,  0.,  0.,  0.,  0.],\n",
    "    [ 3.45581977,  0.,  0.,  0.,  0.,  0., -1.74145973,  0.,  0.,  0.],\n",
    "    [ 0.,  0.,  0.,  0., -0.63760318,  0.,  0.,  0.,  0.52717284,  0.],\n",
    "    [ 0.,  0.,  0.,  0.,  0.,  0.,  0.,  0.,  0.,  0.],\n",
    "    [-0.54047649,  0., -1.55390686,  0.,  0.,  0.,  0.51440096,  0.,  0.,  0.],\n",
    "    [ 0.,  0.,  0.,  0.,  0.,  0.,  0.,  0.,  0.,  0.],\n",
    "    [ 0.93850408,  0.,  0.,  0.,  0.,  0.,  0.,  0.,  0.,  0.],\n",
    "    [ 1.1616069,  0.,  0.,  0.,  0.,  0., -1.42703527,  0.,  0.,  0.],\n",
    "    [ 0.,  0.,  0.,  0.,  0.,  0.,  0.,  0.,  0.,  0.]\n",
    "], dtype=torch.double),\n",
    "]\n",
    "\n",
    "# Print results\n",
    "for i, W_pred in enumerate(W_preds):\n",
    "    print(f\"W_pred {i+1}:\")\n",
    "    d = 10\n",
    "    sdcd_h = h_fn.user_h(W_pred, user_params={\n",
    "                    'is_prescreen': False,\n",
    "                    'power_grad': SCCPowerIteration(\n",
    "                        torch.zeros(d, d, dtype = torch.double, requires_grad = True, device = 'cpu'),\n",
    "                        d,\n",
    "                    )\n",
    "                }\n",
    "    )\n",
    "    print(f'sdcd h: {sdcd_h}')\n",
    "    logdet_h = h_fn.h_logdet_sq(W_pred)\n",
    "    print(f'logdet h: {logdet_h}')\n",
    "    logdet_abs_h = h_fn.h_logdet_abs(W_pred)\n",
    "    print(f'logdet_abs h: {logdet_abs_h}')\n",
    "    h_exp_sq = h_fn.h_exp_sq(W_pred)\n",
    "    print(f'h_exp_sq: {h_exp_sq}')"
   ]
  },
  {
   "cell_type": "code",
   "execution_count": 6,
   "metadata": {},
   "outputs": [
    {
     "name": "stdout",
     "output_type": "stream",
     "text": [
      "sdcd h: 0.0\n",
      "logdet h: -2.856705810647489\n",
      "logdet_abs h: -1.1908875647772807\n",
      "h_exp_sq: 10.665603755507174\n"
     ]
    }
   ],
   "source": [
    "W_pred = torch.tensor([\n",
    "    [ 0.,  1.3,  0., 0.,  0.,  0.,  0.,  0.,  0.,  0.],\n",
    "    [ 0.,  0.,  -1.1, 0.,  0.,  0.,  0.,  0.,  0.,  0.],\n",
    "    [ 3,  0.,  0., 0.,  0.,  0., 0.,  0.,  0.,  0.],\n",
    "    [ 0.,  0.,  0.,  0.,  0.,  0., 0.,  0.,  0., 0.],\n",
    "    [ 0.,  0.,  0.,  0.,  0.,  0., 0.,  0.,  0., 0.],\n",
    "    [ 0.,  0.,  0.,  0.,  0.,  0., 0.,  0.,  0., 0.],\n",
    "    [ 0.,  0.,  0.,  0.,  0.,  0., 0.,  0.,  0., 0.],\n",
    "    [ 0.,  0.,  0.,  0.,  0.,  0., 0.,  0.,  0., 0.],\n",
    "    [ 0.,  0.,  0.,  0.,  0.,  0., 0.,  0.,  0., 0.],\n",
    "    [ 0.,  0.,  0.,  0.,  0.,  0., 0.,  0.,  0., 0.],\n",
    "], dtype=torch.double)\n",
    "\n",
    "d = 10\n",
    "sdcd_h = h_fn.user_h(W_pred, user_params={\n",
    "                'is_prescreen': False,\n",
    "                'power_grad': SCCPowerIteration(\n",
    "                    torch.zeros(d, d, dtype = torch.double, requires_grad = True, device = 'cpu'),\n",
    "                    d,\n",
    "                )\n",
    "            }\n",
    ")\n",
    "print(f'sdcd h: {sdcd_h}')\n",
    "logdet_h = h_fn.h_logdet_sq(W_pred)\n",
    "print(f'logdet h: {logdet_h}')\n",
    "logdet_abs_h = h_fn.h_logdet_abs(W_pred)\n",
    "print(f'logdet_abs h: {logdet_abs_h}')\n",
    "h_exp_sq = h_fn.h_exp_sq(W_pred)\n",
    "print(f'h_exp_sq: {h_exp_sq}')"
   ]
  },
  {
   "cell_type": "code",
   "execution_count": null,
   "metadata": {},
   "outputs": [],
   "source": []
  }
 ],
 "metadata": {
  "kernelspec": {
   "display_name": "Python 3",
   "language": "python",
   "name": "python3"
  },
  "language_info": {
   "codemirror_mode": {
    "name": "ipython",
    "version": 3
   },
   "file_extension": ".py",
   "mimetype": "text/x-python",
   "name": "python",
   "nbconvert_exporter": "python",
   "pygments_lexer": "ipython3",
   "version": "3.11.9"
  }
 },
 "nbformat": 4,
 "nbformat_minor": 2
}
