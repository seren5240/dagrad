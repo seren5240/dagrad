{
 "cells": [
  {
   "cell_type": "code",
   "execution_count": 62,
   "metadata": {},
   "outputs": [
    {
     "name": "stdout",
     "output_type": "stream",
     "text": [
      "The autoreload extension is already loaded. To reload it, use:\n",
      "  %reload_ext autoreload\n"
     ]
    }
   ],
   "source": [
    "# Import all the necessary modules\n",
    "%load_ext autoreload\n",
    "%autoreload 2\n",
    "from dagrad import dagrad # dagrad is the main class for learning the structure of a DAG\n",
    "from dagrad import generate_linear_data, generate_nonlinear_data, count_accuracy, threshold_till_dag\n",
    "from dagrad.hfunction.h_functions import SCCPowerIteration\n",
    "from dagrad.hfunction.h_functions import h_fn\n",
    "import torch\n",
    "import numpy as np\n",
    "import matplotlib.pyplot as plt "
   ]
  },
  {
   "cell_type": "code",
   "execution_count": 7,
   "metadata": {},
   "outputs": [],
   "source": [
    "def postprocess(B, graph_thres=0.3):\n",
    "    \"\"\"Post-process estimated solution:\n",
    "        (1) Thresholding.\n",
    "        (2) Remove the edges with smallest absolute weight until a DAG\n",
    "            is obtained.\n",
    "\n",
    "    Args:\n",
    "        B (numpy.ndarray): [d, d] weighted matrix.\n",
    "        graph_thres (float): Threshold for weighted matrix. Default: 0.3.\n",
    "\n",
    "    Returns:\n",
    "        numpy.ndarray: [d, d] weighted matrix of DAG.\n",
    "    \"\"\"\n",
    "    B = np.copy(B)\n",
    "    # B[np.abs(B) <= graph_thres] = 0    # Thresholding\n",
    "    B, _ = threshold_till_dag(B)\n",
    "\n",
    "    return B"
   ]
  },
  {
   "cell_type": "markdown",
   "metadata": {},
   "source": [
    "### Linear SEM - EV method"
   ]
  },
  {
   "cell_type": "code",
   "execution_count": 82,
   "metadata": {},
   "outputs": [],
   "source": [
    "def sdcd_ev(n, d, s0, graph_type, noise_type, error_var, seed=None):\n",
    "    X, W_true, B_true = generate_linear_data(n,d,s0,graph_type,noise_type,error_var,seed)\n",
    "    X = torch.from_numpy(X).float()\n",
    "    model = 'linear' # Define the model\n",
    "    W_sdcd = dagrad(\n",
    "        X,\n",
    "        model = model,\n",
    "        method = 'dagma',\n",
    "        compute_lib='torch',\n",
    "        h_fn='user_h',\n",
    "        general_options={\n",
    "            'user_params': {\n",
    "                'is_prescreen': False,\n",
    "                'power_grad': SCCPowerIteration(\n",
    "                    torch.zeros(d, d, dtype = torch.double, requires_grad = True, device = 'cpu'),\n",
    "                    d,\n",
    "                )\n",
    "            }\n",
    "        },\n",
    "        # method_options={\n",
    "        #     'mu_factor': 0.9,\n",
    "        # }\n",
    "    ) # Learn the structure of the DAG using SDCD\n",
    "    W_sdcd = postprocess(W_sdcd)\n",
    "    print(f\"Linear Model\")\n",
    "    print(f\"data size: {n}, graph type: {graph_type}, sem type: {noise_type}\")\n",
    "    acc_sdcd = count_accuracy(B_true, W_sdcd != 0) # Measure the accuracy of the learned structure using SDCD\n",
    "    print('Accuracy of SDCD:', acc_sdcd)\n",
    "\n",
    "    return acc_sdcd, W_sdcd"
   ]
  },
  {
   "cell_type": "code",
   "execution_count": 50,
   "metadata": {},
   "outputs": [
    {
     "name": "stdout",
     "output_type": "stream",
     "text": [
      "Linear Model\n",
      "data size: 1000, graph type: ER, sem type: gauss\n",
      "Accuracy of SDCD: {'fdr': 0.0, 'tpr': 1.0, 'fpr': 0.0, 'shd': 0, 'nnz': 5}\n"
     ]
    },
    {
     "data": {
      "text/plain": [
       "{'fdr': 0.0, 'tpr': 1.0, 'fpr': 0.0, 'shd': 0, 'nnz': 5}"
      ]
     },
     "execution_count": 50,
     "metadata": {},
     "output_type": "execute_result"
    }
   ],
   "source": [
    "sdcd_ev(1000, 5, 5, 'ER', 'gauss', 'eq')"
   ]
  },
  {
   "cell_type": "code",
   "execution_count": 98,
   "metadata": {},
   "outputs": [
    {
     "name": "stdout",
     "output_type": "stream",
     "text": [
      "Linear Model\n",
      "data size: 1000, graph type: ER, sem type: gauss\n"
     ]
    },
    {
     "name": "stderr",
     "output_type": "stream",
     "text": [
      "Python(76940) MallocStackLogging: can't turn off malloc stack logging because it was not enabled.\n"
     ]
    },
    {
     "name": "stdout",
     "output_type": "stream",
     "text": [
      "Accuracy of SDCD: {'fdr': 0.4444444444444444, 'tpr': 0.5, 'fpr': 0.11428571428571428, 'shd': 8, 'sid': 15.0, 'nnz': 9}\n",
      "W_pred: [[ 0.          0.          0.          0.          0.          0.\n",
      "   0.          0.          0.          0.        ]\n",
      " [ 0.          0.          0.          0.          0.          0.\n",
      "   0.          0.          0.          0.        ]\n",
      " [ 0.          0.          0.          0.          0.          0.\n",
      "   0.          0.          0.          0.        ]\n",
      " [ 0.          0.          0.          0.          0.          0.\n",
      "   0.          0.          0.          0.        ]\n",
      " [ 0.39283375 -1.77910505 -1.30054712 -1.34660752  0.          0.43409608\n",
      "   0.          1.80742869  1.17600714  0.        ]\n",
      " [ 0.          0.          0.          0.          0.          0.\n",
      "   0.          0.          0.          0.        ]\n",
      " [ 0.60381409  0.          0.          0.          0.          0.\n",
      "   0.          0.          0.          1.7855964 ]\n",
      " [ 0.          0.          0.          0.          0.          0.\n",
      "   0.          0.          0.          0.        ]\n",
      " [ 0.          0.          0.          0.          0.          0.\n",
      "   0.          0.          0.          0.        ]\n",
      " [ 0.          0.          0.          0.          0.          0.\n",
      "   0.          0.          0.          0.        ]]\n",
      "sdcd h: 50.0\n",
      "logdet h: 0.5753641449035617\n",
      "logdet_abs h: 1.3862943611198908\n",
      "h_exp_sq: 0.5680508333754819\n"
     ]
    }
   ],
   "source": [
    "_, W_pred = sdcd_ev(1000, 10, 10, 'ER', 'gauss', 'eq')#, seed=2)\n",
    "print(f'W_pred: {W_pred}')\n",
    "W_pred[0, 0] = 0.5\n",
    "W_pred[1, 1] = 0.5\n",
    "d = 10\n",
    "sdcd_h = h_fn.user_h(torch.from_numpy(W_pred).double(), user_params={\n",
    "                'is_prescreen': False,\n",
    "                'power_grad': SCCPowerIteration(\n",
    "                    torch.zeros(d, d, dtype = torch.double, requires_grad = True, device = 'cpu'),\n",
    "                    d,\n",
    "                )\n",
    "            }\n",
    ")\n",
    "print(f'sdcd h: {sdcd_h}')\n",
    "logdet_h = h_fn.h_logdet_sq(torch.from_numpy(W_pred).double())\n",
    "print(f'logdet h: {logdet_h}')\n",
    "logdet_abs_h = h_fn.h_logdet_abs(torch.from_numpy(W_pred).double())\n",
    "print(f'logdet_abs h: {logdet_abs_h}')\n",
    "h_exp_sq = h_fn.h_exp_sq(torch.from_numpy(W_pred).double())\n",
    "print(f'h_exp_sq: {h_exp_sq}')"
   ]
  },
  {
   "cell_type": "code",
   "execution_count": 37,
   "metadata": {},
   "outputs": [
    {
     "name": "stdout",
     "output_type": "stream",
     "text": [
      "Linear Model\n",
      "data size: 1000, graph type: ER, sem type: gauss\n",
      "Accuracy of SDCD: {'fdr': 0.0, 'tpr': 0.66, 'fpr': 0.0, 'shd': 17, 'nnz': 33}\n"
     ]
    },
    {
     "data": {
      "text/plain": [
       "{'fdr': 0.0, 'tpr': 0.66, 'fpr': 0.0, 'shd': 17, 'nnz': 33}"
      ]
     },
     "execution_count": 37,
     "metadata": {},
     "output_type": "execute_result"
    }
   ],
   "source": [
    "sdcd_ev(1000, 100, 50, 'ER', 'gauss', 'eq', seed=2)"
   ]
  },
  {
   "cell_type": "markdown",
   "metadata": {},
   "source": []
  },
  {
   "cell_type": "code",
   "execution_count": 6,
   "metadata": {},
   "outputs": [
    {
     "name": "stdout",
     "output_type": "stream",
     "text": [
      "Linear Model\n",
      "data size: 1000, graph type: SF, nodes: 50, edges: 100, sem type: gauss\n"
     ]
    },
    {
     "name": "stderr",
     "output_type": "stream",
     "text": [
      "Python(55874) MallocStackLogging: can't turn off malloc stack logging because it was not enabled.\n"
     ]
    },
    {
     "name": "stdout",
     "output_type": "stream",
     "text": [
      "Accuracy of Golem: {'fdr': 0.09523809523809523, 'tpr': 0.979381443298969, 'fpr': 0.008865248226950355, 'shd': 10, 'sid': 19.0, 'nnz': 105}\n"
     ]
    },
    {
     "data": {
      "text/plain": [
       "{'fdr': 0.09523809523809523,\n",
       " 'tpr': 0.979381443298969,\n",
       " 'fpr': 0.008865248226950355,\n",
       " 'shd': 10,\n",
       " 'sid': 19.0,\n",
       " 'nnz': 105}"
      ]
     },
     "execution_count": 6,
     "metadata": {},
     "output_type": "execute_result"
    }
   ],
   "source": [
    "golem_ev(1000, 50, 100, 'SF', 'gauss', 'eq', seed=2)"
   ]
  },
  {
   "cell_type": "code",
   "execution_count": 7,
   "metadata": {},
   "outputs": [
    {
     "name": "stdout",
     "output_type": "stream",
     "text": [
      "Linear Model\n",
      "data size: 1000, graph type: ER, sem type: gauss\n",
      "Accuracy of Dagma: {'fdr': 0.0, 'tpr': 1.0, 'fpr': 0.0, 'shd': 0, 'sid': 0.0, 'nnz': 50}\n"
     ]
    }
   ],
   "source": [
    "# ER1 graph with 100 nodes, as in https://arxiv.org/pdf/2006.10201 5.1\n",
    "n, d, s0, graph_type, noise_type = 1000, 100, 50, 'ER', 'gauss' # Define the parameters of the data\n",
    "X, W_true, B_true = generate_linear_data(n,d,s0,graph_type,noise_type, error_var='eq',seed  =2) # Generate the data\n",
    "X = torch.from_numpy(X).float()\n",
    "model = 'linear' # Define the model\n",
    "W_dagma = dagrad(\n",
    "    X,\n",
    "    model = model,\n",
    "    method = 'dagma',\n",
    "    compute_lib='torch',\n",
    ") # Learn the structure of the DAG using Dagma\n",
    "print(f\"Linear Model\")\n",
    "print(f\"data size: {n}, graph type: {graph_type}, sem type: {noise_type}\")\n",
    "\n",
    "acc_dagma = count_accuracy(B_true, W_dagma != 0) # Measure the accuracy of the learned structure using Dagma\n",
    "print('Accuracy of Dagma:', acc_dagma)\n"
   ]
  },
  {
   "cell_type": "code",
   "execution_count": 8,
   "metadata": {},
   "outputs": [
    {
     "name": "stdout",
     "output_type": "stream",
     "text": [
      "Linear Model\n",
      "data size: 1000, graph type: ER, nodes: 100, edges: 200, sem type: gauss\n",
      "Accuracy of Golem: {'fdr': 0.009950248756218905, 'tpr': 0.995, 'fpr': 0.0004210526315789474, 'shd': 2, 'sid': 25.0, 'nnz': 201}\n"
     ]
    },
    {
     "data": {
      "text/plain": [
       "{'fdr': 0.009950248756218905,\n",
       " 'tpr': 0.995,\n",
       " 'fpr': 0.0004210526315789474,\n",
       " 'shd': 2,\n",
       " 'sid': 25.0,\n",
       " 'nnz': 201}"
      ]
     },
     "execution_count": 8,
     "metadata": {},
     "output_type": "execute_result"
    }
   ],
   "source": [
    "golem_ev(1000, 100, 200, 'ER', 'gauss', 'eq', seed=2)"
   ]
  },
  {
   "cell_type": "code",
   "execution_count": 9,
   "metadata": {},
   "outputs": [
    {
     "name": "stdout",
     "output_type": "stream",
     "text": [
      "Linear Model\n",
      "data size: 1000, graph type: ER, sem type: gauss\n",
      "Accuracy of Dagma: {'fdr': 0.0, 'tpr': 0.985, 'fpr': 0.0, 'shd': 3, 'sid': 134.0, 'nnz': 197}\n"
     ]
    }
   ],
   "source": [
    "# ER4 graph with 100 nodes, as in https://arxiv.org/pdf/2006.10201 5.1\n",
    "n, d, s0, graph_type, noise_type = 1000, 100, 200, 'ER', 'gauss' # Define the parameters of the data\n",
    "X, W_true, B_true = generate_linear_data(n,d,s0,graph_type,noise_type,error_var='eq',seed  =2) # Generate the data\n",
    "X = torch.from_numpy(X).float()\n",
    "model = 'linear' # Define the model\n",
    "W_dagma = dagrad(\n",
    "    X,\n",
    "    model = model,\n",
    "    method = 'dagma',\n",
    "    compute_lib='torch',\n",
    ") # Learn the structure of the DAG using Dagma\n",
    "print(f\"Linear Model\")\n",
    "print(f\"data size: {n}, graph type: {graph_type}, sem type: {noise_type}\")\n",
    "\n",
    "acc_dagma = count_accuracy(B_true, W_dagma != 0) # Measure the accuracy of the learned structure using Dagma\n",
    "print('Accuracy of Dagma:', acc_dagma)\n"
   ]
  },
  {
   "cell_type": "markdown",
   "metadata": {},
   "source": [
    "### h_func unit tests"
   ]
  },
  {
   "cell_type": "code",
   "execution_count": 102,
   "metadata": {},
   "outputs": [
    {
     "name": "stdout",
     "output_type": "stream",
     "text": [
      "W_pred 1:\n",
      "sdcd h: 0.0\n",
      "logdet h: 0.0\n",
      "logdet_abs h: 0.0\n",
      "h_exp_sq: 0.0\n",
      "W_pred 2:\n",
      "sdcd h: 0.0\n",
      "logdet h: -2.220446049250313e-16\n",
      "logdet_abs h: 2.7755575615628914e-16\n",
      "h_exp_sq: 0.0\n",
      "W_pred 3:\n",
      "sdcd h: 100.0\n",
      "logdet h: inf\n",
      "logdet_abs h: inf\n",
      "h_exp_sq: 1.7182818284590446\n",
      "W_pred 4:\n",
      "sdcd h: 50.0\n",
      "logdet h: 0.5753641449035616\n",
      "logdet_abs h: 1.3862943611198908\n",
      "h_exp_sq: 0.5680508333754819\n"
     ]
    }
   ],
   "source": [
    "W_preds = [\n",
    "    # DAG 1\n",
    "    torch.tensor([\n",
    "    [ 0.,  0.,  0.,  0.,  0.,  0.,  0.,  0.,  0.,  0.],\n",
    "    [ 0.,  0.,  0.,  0.,  0.,  0.,  0.,  0.,  0.,  0.],\n",
    "    [ 0., -1.92773958,  0., -1.58384229,  0.,  0.,  0.,  0.,  0.,  2.19178483],\n",
    "    [ 0.,  0.,  0.,  0.,  0.,  0.,  0.,  0.,  0.,  0.],\n",
    "    [-1.40118736,  0.,  0.,  0.,  0., -1.16847115,  0.,  0.,  0.,  0.],\n",
    "    [ 0.,  0.,  0.,  0.,  0.,  0.,  0.,  0.,  0.,  0.],\n",
    "    [ 0.,  0.,  0.48648503,  0.,  0.,  0.,  0.,  0.,  0.,  0.],\n",
    "    [ 0.,  0.,  0.,  0.,  0.,  0.,  0.,  0.,  0.,  0.],\n",
    "    [ 0.,  0.,  1.67483952,  0.,  0.,  0.,  0., -0.36516031,  0.,  1.49810611],\n",
    "    [ 0.,  0.,  0.,  0.,  0.,  0.,  0.,  0.,  0.,  0.]\n",
    "], dtype=torch.double),\n",
    "    # DAG 2\n",
    "    torch.tensor([\n",
    "    [ 0.,  0.,  0.,  0.,  0.,  0.,  0.,  0.,  0.,  0.],\n",
    "    [ 0.,  0.,  0.,  0.,  0.,  0.,  0.,  0.,  0.,  0.],\n",
    "    [ 0.,  0.,  0.,  0.,  0.,  0.,  0.,  0.,  0.,  0.],\n",
    "    [ 0.,  0.,  0.,  0.,  0.,  0.,  0.,  0.,  0.,  0.],\n",
    "    [ 0.39283375, -1.77910505, -1.30054712, -1.34660752,  0.,  0.43409608,  0.,  1.80742869,  1.17600714,  0.],\n",
    "    [ 0.,  0.,  0.,  0.,  0.,  0.,  0.,  0.,  0.,  0.],\n",
    "    [ 0.60381409,  0.,  0.,  0.,  0.,  0.,  0.,  0.,  0.,  1.7855964],\n",
    "    [ 0.,  0.,  0.,  0.,  0.,  0.,  0.,  0.,  0.,  0.],\n",
    "    [ 0.,  0.,  0.,  0.,  0.,  0.,  0.,  0.,  0.,  0.],\n",
    "    [ 0.,  0.,  0.,  0.,  0.,  0.,  0.,  0.,  0.,  0.]\n",
    "], dtype=torch.double),\n",
    "    # Non-DAGs\n",
    "    torch.tensor([\n",
    "    [ 1.,  0.,  0.,  0.,  0.,  0.,  0.,  0.,  0.,  0.],\n",
    "    [ 0.,  0.,  0.,  0.,  0.,  0.,  0.,  0.,  0.,  0.],\n",
    "    [ 0., -1.92773958,  0., -1.58384229,  0.,  0.,  0.,  0.,  0.,  2.19178483],\n",
    "    [ 0.,  0.,  0.,  0.,  0.,  0.,  0.,  0.,  0.,  0.],\n",
    "    [-1.40118736,  0.,  0.,  0.,  0., -1.16847115,  0.,  0.,  0.,  0.],\n",
    "    [ 0.,  0.,  0.,  0.,  0.,  0.,  0.,  0.,  0.,  0.],\n",
    "    [ 0.,  0.,  0.48648503,  0.,  0.,  0.,  0.,  0.,  0.,  0.],\n",
    "    [ 0.,  0.,  0.,  0.,  0.,  0.,  0.,  0.,  0.,  0.],\n",
    "    [ 0.,  0.,  1.67483952,  0.,  0.,  0.,  0., -0.36516031,  0.,  1.49810611],\n",
    "    [ 0.,  0.,  0.,  0.,  0.,  0.,  0.,  0.,  0.,  0.]\n",
    "], dtype=torch.double),\n",
    "    torch.tensor([\n",
    "    [ 0.5,  0.,  0.,  0.,  0.,  0.,  0.,  0.,  0.,  0.],\n",
    "    [ 0.,  -0.5,  0.,  0.,  0.,  0.,  0.,  0.,  0.,  0.],\n",
    "    [ 0.,  0.,  0,  0.,  0.,  0.,  0.,  0.,  0.,  0.],\n",
    "    [ 0.,  0.,  0.,  0.,  0.,  0.,  0.,  0.,  0.,  0.],\n",
    "    [ 0.39283375, -1.77910505, -1.30054712, -1.34660752,  0.,  0.43409608,  0.,  1.80742869,  1.17600714,  0.],\n",
    "    [ 0.,  0.,  0.,  0.,  0.,  0.,  0.,  0.,  0.,  0.],\n",
    "    [ 0.60381409,  0.,  0.,  0.,  0.,  0.,  0.,  0.,  0.,  1.7855964],\n",
    "    [ 0.,  0.,  0.,  0.,  0.,  0.,  0.,  0.,  0.,  0.],\n",
    "    [ 0.,  0.,  0.,  0.,  0.,  0.,  0.,  0.,  0.,  0.],\n",
    "    [ 0.,  0.,  0.,  0.,  0.,  0.,  0.,  0.,  0.,  0.]\n",
    "], dtype=torch.double)\n",
    "]\n",
    "\n",
    "# Print results\n",
    "for i, W in enumerate(W_preds):\n",
    "    print(f\"W_pred {i+1}:\")\n",
    "    W_pred = W_preds[i]\n",
    "    d = 10\n",
    "    sdcd_h = h_fn.user_h(W_pred, user_params={\n",
    "                    'is_prescreen': False,\n",
    "                    'power_grad': SCCPowerIteration(\n",
    "                        torch.zeros(d, d, dtype = torch.double, requires_grad = True, device = 'cpu'),\n",
    "                        d,\n",
    "                    )\n",
    "                }\n",
    "    )\n",
    "    print(f'sdcd h: {sdcd_h}')\n",
    "    logdet_h = h_fn.h_logdet_sq(W_pred)\n",
    "    print(f'logdet h: {logdet_h}')\n",
    "    logdet_abs_h = h_fn.h_logdet_abs(W_pred)\n",
    "    print(f'logdet_abs h: {logdet_abs_h}')\n",
    "    h_exp_sq = h_fn.h_exp_sq(W_pred)\n",
    "    print(f'h_exp_sq: {h_exp_sq}')"
   ]
  },
  {
   "cell_type": "code",
   "execution_count": null,
   "metadata": {},
   "outputs": [],
   "source": []
  }
 ],
 "metadata": {
  "kernelspec": {
   "display_name": "Python 3",
   "language": "python",
   "name": "python3"
  },
  "language_info": {
   "codemirror_mode": {
    "name": "ipython",
    "version": 3
   },
   "file_extension": ".py",
   "mimetype": "text/x-python",
   "name": "python",
   "nbconvert_exporter": "python",
   "pygments_lexer": "ipython3",
   "version": "3.11.9"
  }
 },
 "nbformat": 4,
 "nbformat_minor": 2
}
