{
 "cells": [
  {
   "cell_type": "code",
   "execution_count": 34,
   "metadata": {},
   "outputs": [
    {
     "name": "stdout",
     "output_type": "stream",
     "text": [
      "The autoreload extension is already loaded. To reload it, use:\n",
      "  %reload_ext autoreload\n"
     ]
    }
   ],
   "source": [
    "# Import all the necessary modules\n",
    "%load_ext autoreload\n",
    "%autoreload 2\n",
    "from dagrad import dagrad # dagrad is the main class for learning the structure of a DAG\n",
    "from dagrad import generate_linear_data, generate_nonlinear_data, count_accuracy\n",
    "import torch\n",
    "import numpy as np\n",
    "import matplotlib.pyplot as plt "
   ]
  },
  {
   "cell_type": "markdown",
   "metadata": {},
   "source": [
    "### Linear SEM - EV method"
   ]
  },
  {
   "cell_type": "code",
   "execution_count": 35,
   "metadata": {},
   "outputs": [],
   "source": [
    "def golem_ev(n, d, s0, graph_type, sem_type, seed=None):\n",
    "    X, W_true, B_true = generate_linear_data(n,d,s0,graph_type,sem_type,seed)\n",
    "    X = torch.from_numpy(X).float()\n",
    "    model = 'linear' # Define the model\n",
    "    W_golem = dagrad(\n",
    "        X,\n",
    "        model = model,\n",
    "        method = 'dagma',\n",
    "        compute_lib='torch',\n",
    "        loss_fn='user_loss',\n",
    "        reg='user_reg',\n",
    "        h_fn='user_h',\n",
    "        general_options={'user_params': {\n",
    "            'equal_variances': True,\n",
    "        }}\n",
    "    ) # Learn the structure of the DAG using Golem\n",
    "    print(f\"Linear Model\")\n",
    "    print(f\"data size: {n}, graph type: {graph_type}, nodes: {d}, edges: {s0}, sem type: {sem_type}\")\n",
    "\n",
    "    acc_golem = count_accuracy(B_true, W_golem != 0) # Measure the accuracy of the learned structure using Golem\n",
    "    print('Accuracy of Golem:', acc_golem)\n",
    "\n",
    "    return acc_golem"
   ]
  },
  {
   "cell_type": "code",
   "execution_count": 36,
   "metadata": {},
   "outputs": [
    {
     "name": "stdout",
     "output_type": "stream",
     "text": [
      "Linear Model\n",
      "data size: 1000, graph type: ER, nodes: 100, edges: 50, sem type: gauss\n",
      "Accuracy of Golem: {'fdr': 0.0, 'tpr': 1.0, 'fpr': 0.0, 'shd': 0, 'nnz': 50}\n"
     ]
    },
    {
     "data": {
      "text/plain": [
       "{'fdr': 0.0, 'tpr': 1.0, 'fpr': 0.0, 'shd': 0, 'nnz': 50}"
      ]
     },
     "execution_count": 36,
     "metadata": {},
     "output_type": "execute_result"
    }
   ],
   "source": [
    "golem_ev(1000, 100, 50, 'ER', 'gauss', seed=2)"
   ]
  },
  {
   "cell_type": "code",
   "execution_count": null,
   "metadata": {},
   "outputs": [
    {
     "name": "stdout",
     "output_type": "stream",
     "text": [
      "Linear Model\n",
      "data size: 1000, graph type: ER, sem type: gauss\n",
      "Accuracy of Dagma: {'fdr': 0.0, 'tpr': 1.0, 'fpr': 0.0, 'shd': 0, 'nnz': 50}\n"
     ]
    }
   ],
   "source": [
    "# ER1 graph with 100 nodes, as in https://arxiv.org/pdf/2006.10201 5.1\n",
    "n, d, s0, graph_type, sem_type = 1000, 100, 50, 'ER', 'gauss' # Define the parameters of the data\n",
    "X, W_true, B_true = generate_linear_data(n,d,s0,graph_type,sem_type,seed  =2) # Generate the data\n",
    "X = torch.from_numpy(X).float()\n",
    "model = 'linear' # Define the model\n",
    "W_dagma = dagrad(\n",
    "    X,\n",
    "    model = model,\n",
    "    method = 'dagma',\n",
    "    compute_lib='torch',\n",
    ") # Learn the structure of the DAG using Dagma\n",
    "print(f\"Linear Model\")\n",
    "print(f\"data size: {n}, graph type: {graph_type}, sem type: {sem_type}\")\n",
    "\n",
    "acc_dagma = count_accuracy(B_true, W_dagma != 0) # Measure the accuracy of the learned structure using Dagma\n",
    "print('Accuracy of Dagma:', acc_dagma)\n"
   ]
  },
  {
   "cell_type": "code",
   "execution_count": null,
   "metadata": {},
   "outputs": [
    {
     "name": "stdout",
     "output_type": "stream",
     "text": [
      "Linear Model\n",
      "data size: 1000, graph type: ER, sem type: gauss\n",
      "Accuracy of Golem: {'fdr': 0.009950248756218905, 'tpr': 0.995, 'fpr': 0.0004210526315789474, 'shd': 2, 'nnz': 201}\n"
     ]
    }
   ],
   "source": [
    "golem_ev(1000, 100, 200, 'ER', 'gauss', seed=2)"
   ]
  },
  {
   "cell_type": "code",
   "execution_count": null,
   "metadata": {},
   "outputs": [
    {
     "name": "stdout",
     "output_type": "stream",
     "text": [
      "Linear Model\n",
      "data size: 1000, graph type: ER, sem type: gauss\n",
      "Accuracy of Dagma: {'fdr': 0.0, 'tpr': 0.985, 'fpr': 0.0, 'shd': 3, 'nnz': 197}\n"
     ]
    }
   ],
   "source": [
    "# ER4 graph with 100 nodes, as in https://arxiv.org/pdf/2006.10201 5.1\n",
    "n, d, s0, graph_type, sem_type = 1000, 100, 200, 'ER', 'gauss' # Define the parameters of the data\n",
    "X, W_true, B_true = generate_linear_data(n,d,s0,graph_type,sem_type,seed  =2) # Generate the data\n",
    "X = torch.from_numpy(X).float()\n",
    "model = 'linear' # Define the model\n",
    "W_dagma = dagrad(\n",
    "    X,\n",
    "    model = model,\n",
    "    method = 'dagma',\n",
    "    compute_lib='torch',\n",
    ") # Learn the structure of the DAG using Dagma\n",
    "print(f\"Linear Model\")\n",
    "print(f\"data size: {n}, graph type: {graph_type}, sem type: {sem_type}\")\n",
    "\n",
    "acc_dagma = count_accuracy(B_true, W_dagma != 0) # Measure the accuracy of the learned structure using Dagma\n",
    "print('Accuracy of Dagma:', acc_dagma)\n"
   ]
  },
  {
   "cell_type": "markdown",
   "metadata": {},
   "source": [
    "### Linear SEM - Two-stage method"
   ]
  },
  {
   "cell_type": "code",
   "execution_count": 37,
   "metadata": {},
   "outputs": [],
   "source": [
    "def golem_nv(n, d, s0, graph_type, sem_type, seed=None):\n",
    "    X, W_true, B_true = generate_linear_data(n,d,s0,graph_type,sem_type,seed)\n",
    "    X = torch.from_numpy(X).float()\n",
    "    model = 'linear' # Define the model\n",
    "    W_ev = dagrad(\n",
    "        X,\n",
    "        model = model,\n",
    "        method = 'dagma',\n",
    "        compute_lib='torch',\n",
    "        loss_fn='user_loss',\n",
    "        reg='user_reg',\n",
    "        h_fn='user_h',\n",
    "        general_options={'user_params': {\n",
    "            'equal_variances': True,\n",
    "        }}\n",
    "    ) # Learn the structure of the DAG using Golem\n",
    "    print(f\"Linear Model\")\n",
    "    print(f\"data size: {n}, graph type: {graph_type}, nodes: {d}, edges: {s0}, sem type: {sem_type}\")\n",
    "\n",
    "    acc_ev = count_accuracy(B_true, W_ev != 0) # Measure the accuracy of the learned structure using Golem\n",
    "    print('Accuracy of Golem after EV stage:', acc_ev)\n",
    "\n",
    "    W_nv = dagrad(\n",
    "        X,\n",
    "        model = model,\n",
    "        method = 'dagma',\n",
    "        compute_lib='torch',\n",
    "        loss_fn='user_loss',\n",
    "        reg='user_reg',\n",
    "        h_fn='user_h',\n",
    "        general_options={'user_params': {\n",
    "            'equal_variances': False,\n",
    "        },\n",
    "        'initialization': W_ev}\n",
    "    ) \n",
    "\n",
    "    acc_nv = count_accuracy(B_true, W_nv != 0) # Measure the accuracy of the learned structure using Golem\n",
    "    print('Accuracy of Golem after NV stage:', acc_nv)\n",
    "\n",
    "    return acc_nv\n"
   ]
  },
  {
   "cell_type": "code",
   "execution_count": null,
   "metadata": {},
   "outputs": [
    {
     "name": "stdout",
     "output_type": "stream",
     "text": [
      "Linear Model\n",
      "data size: 1000, graph type: ER, sem type: gauss\n",
      "Accuracy of Golem after EV stage: {'fdr': 0.009950248756218905, 'tpr': 0.995, 'fpr': 0.0004210526315789474, 'shd': 2, 'nnz': 201}\n",
      "Accuracy of Golem after NV stage: {'fdr': 0.009950248756218905, 'tpr': 0.995, 'fpr': 0.0004210526315789474, 'shd': 2, 'nnz': 201}\n"
     ]
    }
   ],
   "source": [
    "golem_nv(1000, 100, 200, 'ER', 'gauss', seed=2)"
   ]
  },
  {
   "cell_type": "code",
   "execution_count": null,
   "metadata": {},
   "outputs": [
    {
     "name": "stdout",
     "output_type": "stream",
     "text": [
      "Linear Model\n",
      "data size: 1000, graph type: ER, sem type: exp\n",
      "Accuracy of Golem after EV stage: {'fdr': 0.09259259259259259, 'tpr': 0.98, 'fpr': 0.0010204081632653062, 'shd': 5, 'nnz': 54}\n",
      "Accuracy of Golem after NV stage: {'fdr': 0.14035087719298245, 'tpr': 0.98, 'fpr': 0.0016326530612244899, 'shd': 8, 'nnz': 57}\n"
     ]
    }
   ],
   "source": [
    "golem_nv(1000, 100, 50, 'ER', 'exp', seed=2)"
   ]
  },
  {
   "cell_type": "code",
   "execution_count": null,
   "metadata": {},
   "outputs": [
    {
     "name": "stdout",
     "output_type": "stream",
     "text": [
      "Linear Model\n",
      "data size: 1000, graph type: ER, sem type: gauss\n",
      "Accuracy of Golem after EV stage: {'fdr': 0.0, 'tpr': 1.0, 'fpr': 0.0, 'shd': 0, 'nnz': 50}\n",
      "Accuracy of Golem after NV stage: {'fdr': 0.0, 'tpr': 1.0, 'fpr': 0.0, 'shd': 0, 'nnz': 50}\n"
     ]
    }
   ],
   "source": [
    "golem_nv(1000, 100, 50, 'ER', 'gauss', seed=2)"
   ]
  },
  {
   "cell_type": "code",
   "execution_count": null,
   "metadata": {},
   "outputs": [
    {
     "name": "stdout",
     "output_type": "stream",
     "text": [
      "Linear Model\n",
      "data size: 1000, graph type: ER, sem type: gumbel\n",
      "Accuracy of Golem after EV stage: {'fdr': 0.005, 'tpr': 0.995, 'fpr': 0.0002105263157894737, 'shd': 1, 'nnz': 200}\n",
      "Accuracy of Golem after NV stage: {'fdr': 0.005, 'tpr': 0.995, 'fpr': 0.0002105263157894737, 'shd': 1, 'nnz': 200}\n"
     ]
    }
   ],
   "source": [
    "golem_nv(1000, 100, 200, 'ER', 'gumbel', seed=2)"
   ]
  },
  {
   "cell_type": "markdown",
   "metadata": {},
   "source": [
    "### Experiment"
   ]
  },
  {
   "cell_type": "code",
   "execution_count": null,
   "metadata": {},
   "outputs": [],
   "source": [
    "def run_experiment(trials):\n",
    "    \"\"\"\n",
    "    Parameters:\n",
    "        trials (int): Number of trials to run for each configuration.\n",
    "    \n",
    "    Returns:\n",
    "        None (Generates and saves plots).\n",
    "    \"\"\"\n",
    "    n = 1000\n",
    "    num_nodes = [5, 10]#, 50, 100]\n",
    "    s0_ratios = [0.5, 1, 2]\n",
    "    noise_types = [\"gauss\", \"exp\", \"gumbel\"]\n",
    "    methods = [\"GOLEM-EV\", \"GOLEM-NV\"]\n",
    "\n",
    "    results = {method: {sem: {d: [] for d in num_nodes} for sem in noise_types} for method in methods}\n",
    "\n",
    "    for d in num_nodes:\n",
    "        for sem_type in noise_types:\n",
    "            for s0_ratio in s0_ratios:\n",
    "                s0 = int(s0_ratio * d)\n",
    "\n",
    "                for _ in range(trials):\n",
    "                    ev_result = golem_ev(n=n, d=d, s0=s0, graph_type=\"ER\", sem_type=sem_type)\n",
    "                    results[\"GOLEM-EV\"][sem_type][d].append(ev_result[\"shd\"] / s0)\n",
    "\n",
    "                    nv_result = golem_nv(n=n, d=d, s0=s0, graph_type=\"ER\", sem_type=sem_type)\n",
    "                    results[\"GOLEM-NV\"][sem_type][d].append(nv_result[\"shd\"] / s0)\n",
    "\n",
    "    num_rows = len(s0_ratios)\n",
    "    num_cols = len(noise_types)\n",
    "\n",
    "    fig, axes = plt.subplots(num_rows, num_cols, figsize=(15, 5 * num_rows), sharex=True, sharey=True)\n",
    "\n",
    "    for i, s0_ratio in enumerate(s0_ratios):\n",
    "        for j, noise in enumerate(noise_types):\n",
    "            ax = axes[i, j] if num_rows > 1 else axes[j]\n",
    "            \n",
    "            for method in methods:\n",
    "                means = [\n",
    "                    np.mean(results[method][noise][d])\n",
    "                    for d in num_nodes\n",
    "                ]\n",
    "                ax.plot(num_nodes, means, marker=\"o\", label=method)\n",
    "\n",
    "            noise_names = {\n",
    "                \"gauss\": \"Gaussian\",\n",
    "                \"exp\": \"Exponential\",\n",
    "                \"gumbel\": \"Gumbel\"\n",
    "            }\n",
    "            s0_ratio_to_ER = {\n",
    "                0.5: '1',\n",
    "                1: '2',\n",
    "                2: '4'\n",
    "            }\n",
    "\n",
    "            ax.set_title(f\"{noise_names[noise]} noise, ER{s0_ratio_to_ER[s0_ratio]}\")\n",
    "            ax.set_xlabel(\"d (Number of Nodes)\")\n",
    "            if j == 0:\n",
    "                ax.set_ylabel(\"Normalized SHD\")\n",
    "            ax.grid(True)\n",
    "\n",
    "    handles, labels = ax.get_legend_handles_labels()\n",
    "    fig.legend(handles, labels, loc=\"upper center\", ncol=len(methods))\n",
    "    plt.tight_layout(rect=[0, 0, 1, 0.95])\n",
    "    plt.savefig(f\"normalized_shd_n={n}.png\")"
   ]
  },
  {
   "cell_type": "code",
   "execution_count": 39,
   "metadata": {},
   "outputs": [
    {
     "name": "stdout",
     "output_type": "stream",
     "text": [
      "Linear Model\n",
      "data size: 1000, graph type: ER, nodes: 5, edges: 2, sem type: gauss\n",
      "Accuracy of Golem: {'fdr': 0.0, 'tpr': 1.0, 'fpr': 0.0, 'shd': 0, 'nnz': 2}\n",
      "Linear Model\n",
      "data size: 1000, graph type: ER, nodes: 5, edges: 2, sem type: gauss\n",
      "Accuracy of Golem after EV stage: {'fdr': 0.0, 'tpr': 1.0, 'fpr': 0.0, 'shd': 0, 'nnz': 2}\n",
      "Accuracy of Golem after NV stage: {'fdr': 0.0, 'tpr': 1.0, 'fpr': 0.0, 'shd': 0, 'nnz': 2}\n",
      "Linear Model\n",
      "data size: 1000, graph type: ER, nodes: 5, edges: 5, sem type: gauss\n",
      "Accuracy of Golem: {'fdr': 0.0, 'tpr': 1.0, 'fpr': 0.0, 'shd': 0, 'nnz': 5}\n",
      "Linear Model\n",
      "data size: 1000, graph type: ER, nodes: 5, edges: 5, sem type: gauss\n",
      "Accuracy of Golem after EV stage: {'fdr': 0.0, 'tpr': 1.0, 'fpr': 0.0, 'shd': 0, 'nnz': 5}\n",
      "Accuracy of Golem after NV stage: {'fdr': 0.0, 'tpr': 1.0, 'fpr': 0.0, 'shd': 0, 'nnz': 5}\n",
      "Linear Model\n",
      "data size: 1000, graph type: ER, nodes: 5, edges: 10, sem type: gauss\n",
      "Accuracy of Golem: {'fdr': 0.0, 'tpr': 1.0, 'fpr': 0.0, 'shd': 0, 'nnz': 10}\n",
      "Linear Model\n",
      "data size: 1000, graph type: ER, nodes: 5, edges: 10, sem type: gauss\n",
      "Accuracy of Golem after EV stage: {'fdr': 0.0, 'tpr': 1.0, 'fpr': 0.0, 'shd': 0, 'nnz': 10}\n",
      "Accuracy of Golem after NV stage: {'fdr': 0.0, 'tpr': 1.0, 'fpr': 0.0, 'shd': 0, 'nnz': 10}\n",
      "Linear Model\n",
      "data size: 1000, graph type: ER, nodes: 5, edges: 2, sem type: exp\n",
      "Accuracy of Golem: {'fdr': 0.7142857142857143, 'tpr': 1.0, 'fpr': 0.625, 'shd': 5, 'nnz': 7}\n",
      "Linear Model\n",
      "data size: 1000, graph type: ER, nodes: 5, edges: 2, sem type: exp\n",
      "Accuracy of Golem after EV stage: {'fdr': 0.7142857142857143, 'tpr': 1.0, 'fpr': 0.625, 'shd': 5, 'nnz': 7}\n",
      "Accuracy of Golem after NV stage: {'fdr': 0.6666666666666666, 'tpr': 1.0, 'fpr': 0.5, 'shd': 4, 'nnz': 6}\n",
      "Linear Model\n",
      "data size: 1000, graph type: ER, nodes: 5, edges: 5, sem type: exp\n",
      "Accuracy of Golem: {'fdr': 0.375, 'tpr': 1.0, 'fpr': 0.6, 'shd': 3, 'nnz': 8}\n",
      "Linear Model\n",
      "data size: 1000, graph type: ER, nodes: 5, edges: 5, sem type: exp\n",
      "Accuracy of Golem after EV stage: {'fdr': 0.375, 'tpr': 1.0, 'fpr': 0.6, 'shd': 3, 'nnz': 8}\n",
      "Accuracy of Golem after NV stage: {'fdr': 0.375, 'tpr': 1.0, 'fpr': 0.6, 'shd': 3, 'nnz': 8}\n",
      "Linear Model\n",
      "data size: 1000, graph type: ER, nodes: 5, edges: 10, sem type: exp\n",
      "Accuracy of Golem: {'fdr': 0.0, 'tpr': 1.0, 'fpr': 0.0, 'shd': 0, 'nnz': 10}\n",
      "Linear Model\n",
      "data size: 1000, graph type: ER, nodes: 5, edges: 10, sem type: exp\n",
      "Accuracy of Golem after EV stage: {'fdr': 0.0, 'tpr': 1.0, 'fpr': 0.0, 'shd': 0, 'nnz': 10}\n",
      "Accuracy of Golem after NV stage: {'fdr': 0.0, 'tpr': 1.0, 'fpr': 0.0, 'shd': 0, 'nnz': 10}\n",
      "Linear Model\n",
      "data size: 1000, graph type: ER, nodes: 5, edges: 2, sem type: gumbel\n",
      "Accuracy of Golem: {'fdr': 0.5, 'tpr': 1.0, 'fpr': 0.25, 'shd': 2, 'nnz': 4}\n",
      "Linear Model\n",
      "data size: 1000, graph type: ER, nodes: 5, edges: 2, sem type: gumbel\n",
      "Accuracy of Golem after EV stage: {'fdr': 0.5, 'tpr': 1.0, 'fpr': 0.25, 'shd': 2, 'nnz': 4}\n",
      "Accuracy of Golem after NV stage: {'fdr': 0.0, 'tpr': 1.0, 'fpr': 0.0, 'shd': 0, 'nnz': 2}\n",
      "Linear Model\n",
      "data size: 1000, graph type: ER, nodes: 5, edges: 5, sem type: gumbel\n",
      "Accuracy of Golem: {'fdr': 0.5, 'tpr': 0.6, 'fpr': 0.6, 'shd': 5, 'nnz': 6}\n",
      "Linear Model\n",
      "data size: 1000, graph type: ER, nodes: 5, edges: 5, sem type: gumbel\n",
      "Accuracy of Golem after EV stage: {'fdr': 0.5, 'tpr': 0.6, 'fpr': 0.6, 'shd': 5, 'nnz': 6}\n",
      "Accuracy of Golem after NV stage: {'fdr': 0.5, 'tpr': 0.6, 'fpr': 0.6, 'shd': 5, 'nnz': 6}\n",
      "Linear Model\n",
      "data size: 1000, graph type: ER, nodes: 5, edges: 10, sem type: gumbel\n",
      "Accuracy of Golem: {'fdr': 0.0, 'tpr': 1.0, 'fpr': 0.0, 'shd': 0, 'nnz': 10}\n",
      "Linear Model\n",
      "data size: 1000, graph type: ER, nodes: 5, edges: 10, sem type: gumbel\n",
      "Accuracy of Golem after EV stage: {'fdr': 0.0, 'tpr': 1.0, 'fpr': 0.0, 'shd': 0, 'nnz': 10}\n",
      "Accuracy of Golem after NV stage: {'fdr': 0.0, 'tpr': 1.0, 'fpr': 0.0, 'shd': 0, 'nnz': 10}\n",
      "Linear Model\n",
      "data size: 1000, graph type: ER, nodes: 10, edges: 5, sem type: gauss\n",
      "Accuracy of Golem: {'fdr': 0.42857142857142855, 'tpr': 0.8, 'fpr': 0.075, 'shd': 3, 'nnz': 7}\n",
      "Linear Model\n",
      "data size: 1000, graph type: ER, nodes: 10, edges: 5, sem type: gauss\n",
      "Accuracy of Golem after EV stage: {'fdr': 0.42857142857142855, 'tpr': 0.8, 'fpr': 0.075, 'shd': 3, 'nnz': 7}\n",
      "Accuracy of Golem after NV stage: {'fdr': 0.42857142857142855, 'tpr': 0.8, 'fpr': 0.075, 'shd': 3, 'nnz': 7}\n",
      "Linear Model\n",
      "data size: 1000, graph type: ER, nodes: 10, edges: 10, sem type: gauss\n",
      "Accuracy of Golem: {'fdr': 0.18181818181818182, 'tpr': 0.9, 'fpr': 0.05714285714285714, 'shd': 2, 'nnz': 11}\n",
      "Linear Model\n",
      "data size: 1000, graph type: ER, nodes: 10, edges: 10, sem type: gauss\n",
      "Accuracy of Golem after EV stage: {'fdr': 0.18181818181818182, 'tpr': 0.9, 'fpr': 0.05714285714285714, 'shd': 2, 'nnz': 11}\n",
      "Accuracy of Golem after NV stage: {'fdr': 0.18181818181818182, 'tpr': 0.9, 'fpr': 0.05714285714285714, 'shd': 2, 'nnz': 11}\n",
      "Linear Model\n",
      "data size: 1000, graph type: ER, nodes: 10, edges: 20, sem type: gauss\n",
      "Accuracy of Golem: {'fdr': 0.0, 'tpr': 1.0, 'fpr': 0.0, 'shd': 0, 'nnz': 20}\n",
      "Linear Model\n",
      "data size: 1000, graph type: ER, nodes: 10, edges: 20, sem type: gauss\n",
      "Accuracy of Golem after EV stage: {'fdr': 0.0, 'tpr': 1.0, 'fpr': 0.0, 'shd': 0, 'nnz': 20}\n",
      "Accuracy of Golem after NV stage: {'fdr': 0.0, 'tpr': 1.0, 'fpr': 0.0, 'shd': 0, 'nnz': 20}\n",
      "Linear Model\n",
      "data size: 1000, graph type: ER, nodes: 10, edges: 5, sem type: exp\n",
      "Accuracy of Golem: {'fdr': 0.375, 'tpr': 1.0, 'fpr': 0.075, 'shd': 3, 'nnz': 8}\n",
      "Linear Model\n",
      "data size: 1000, graph type: ER, nodes: 10, edges: 5, sem type: exp\n",
      "Accuracy of Golem after EV stage: {'fdr': 0.375, 'tpr': 1.0, 'fpr': 0.075, 'shd': 3, 'nnz': 8}\n",
      "Accuracy of Golem after NV stage: {'fdr': 0.16666666666666666, 'tpr': 1.0, 'fpr': 0.025, 'shd': 1, 'nnz': 6}\n",
      "Linear Model\n",
      "data size: 1000, graph type: ER, nodes: 10, edges: 10, sem type: exp\n",
      "Accuracy of Golem: {'fdr': 0.0, 'tpr': 1.0, 'fpr': 0.0, 'shd': 0, 'nnz': 10}\n",
      "Linear Model\n",
      "data size: 1000, graph type: ER, nodes: 10, edges: 10, sem type: exp\n",
      "Accuracy of Golem after EV stage: {'fdr': 0.0, 'tpr': 1.0, 'fpr': 0.0, 'shd': 0, 'nnz': 10}\n",
      "Accuracy of Golem after NV stage: {'fdr': 0.0, 'tpr': 1.0, 'fpr': 0.0, 'shd': 0, 'nnz': 10}\n",
      "Linear Model\n",
      "data size: 1000, graph type: ER, nodes: 10, edges: 20, sem type: exp\n",
      "Accuracy of Golem: {'fdr': 0.16666666666666666, 'tpr': 1.0, 'fpr': 0.16, 'shd': 4, 'nnz': 24}\n",
      "Linear Model\n",
      "data size: 1000, graph type: ER, nodes: 10, edges: 20, sem type: exp\n",
      "Accuracy of Golem after EV stage: {'fdr': 0.16666666666666666, 'tpr': 1.0, 'fpr': 0.16, 'shd': 4, 'nnz': 24}\n",
      "Accuracy of Golem after NV stage: {'fdr': 0.16666666666666666, 'tpr': 1.0, 'fpr': 0.16, 'shd': 4, 'nnz': 24}\n",
      "Linear Model\n",
      "data size: 1000, graph type: ER, nodes: 10, edges: 5, sem type: gumbel\n",
      "Accuracy of Golem: {'fdr': 0.2857142857142857, 'tpr': 1.0, 'fpr': 0.05, 'shd': 2, 'nnz': 7}\n",
      "Linear Model\n",
      "data size: 1000, graph type: ER, nodes: 10, edges: 5, sem type: gumbel\n",
      "Accuracy of Golem after EV stage: {'fdr': 0.2857142857142857, 'tpr': 1.0, 'fpr': 0.05, 'shd': 2, 'nnz': 7}\n",
      "Accuracy of Golem after NV stage: {'fdr': 0.0, 'tpr': 1.0, 'fpr': 0.0, 'shd': 0, 'nnz': 5}\n",
      "Linear Model\n",
      "data size: 1000, graph type: ER, nodes: 10, edges: 10, sem type: gumbel\n",
      "Accuracy of Golem: {'fdr': 0.0, 'tpr': 1.0, 'fpr': 0.0, 'shd': 0, 'nnz': 10}\n",
      "Linear Model\n",
      "data size: 1000, graph type: ER, nodes: 10, edges: 10, sem type: gumbel\n",
      "Accuracy of Golem after EV stage: {'fdr': 0.0, 'tpr': 1.0, 'fpr': 0.0, 'shd': 0, 'nnz': 10}\n",
      "Accuracy of Golem after NV stage: {'fdr': 0.0, 'tpr': 1.0, 'fpr': 0.0, 'shd': 0, 'nnz': 10}\n",
      "Linear Model\n",
      "data size: 1000, graph type: ER, nodes: 10, edges: 20, sem type: gumbel\n",
      "Accuracy of Golem: {'fdr': 0.0, 'tpr': 1.0, 'fpr': 0.0, 'shd': 0, 'nnz': 20}\n",
      "Linear Model\n",
      "data size: 1000, graph type: ER, nodes: 10, edges: 20, sem type: gumbel\n",
      "Accuracy of Golem after EV stage: {'fdr': 0.0, 'tpr': 1.0, 'fpr': 0.0, 'shd': 0, 'nnz': 20}\n",
      "Accuracy of Golem after NV stage: {'fdr': 0.0, 'tpr': 1.0, 'fpr': 0.0, 'shd': 0, 'nnz': 20}\n"
     ]
    }
   ],
   "source": [
    "run_experiment(1)"
   ]
  },
  {
   "cell_type": "code",
   "execution_count": null,
   "metadata": {},
   "outputs": [
    {
     "name": "stdout",
     "output_type": "stream",
     "text": [
      "Linear Model\n",
      "data size: 1000, graph type: ER, sem type: gauss\n",
      "Accuracy of Golem: {'fdr': 0.16363636363636364, 'tpr': 0.92, 'fpr': 0.001836734693877551, 'shd': 9, 'nnz': 55}\n",
      "Linear Model\n",
      "data size: 1000, graph type: ER, sem type: gauss\n",
      "Accuracy of Golem after EV stage: {'fdr': 0.0392156862745098, 'tpr': 0.98, 'fpr': 0.00040816326530612246, 'shd': 2, 'nnz': 51}\n",
      "Accuracy of Golem after NV stage: {'fdr': 0.0392156862745098, 'tpr': 0.98, 'fpr': 0.00040816326530612246, 'shd': 2, 'nnz': 51}\n",
      "Linear Model\n",
      "data size: 1000, graph type: ER, sem type: gauss\n",
      "Accuracy of Golem: {'fdr': 0.0, 'tpr': 1.0, 'fpr': 0.0, 'shd': 0, 'nnz': 100}\n",
      "Linear Model\n",
      "data size: 1000, graph type: ER, sem type: gauss\n",
      "Accuracy of Golem after EV stage: {'fdr': 0.019801980198019802, 'tpr': 0.99, 'fpr': 0.0004123711340206186, 'shd': 2, 'nnz': 101}\n",
      "Accuracy of Golem after NV stage: {'fdr': 0.019801980198019802, 'tpr': 0.99, 'fpr': 0.0004123711340206186, 'shd': 2, 'nnz': 101}\n",
      "Linear Model\n",
      "data size: 1000, graph type: ER, sem type: gauss\n",
      "Accuracy of Golem: {'fdr': 0.04830917874396135, 'tpr': 0.985, 'fpr': 0.002105263157894737, 'shd': 11, 'nnz': 207}\n",
      "Linear Model\n",
      "data size: 1000, graph type: ER, sem type: gauss\n",
      "Accuracy of Golem after EV stage: {'fdr': 0.024630541871921183, 'tpr': 0.99, 'fpr': 0.0010526315789473684, 'shd': 5, 'nnz': 203}\n",
      "Accuracy of Golem after NV stage: {'fdr': 0.019801980198019802, 'tpr': 0.99, 'fpr': 0.0008421052631578948, 'shd': 4, 'nnz': 202}\n",
      "Linear Model\n",
      "data size: 1000, graph type: ER, sem type: exp\n",
      "Accuracy of Golem: {'fdr': 0.0196078431372549, 'tpr': 1.0, 'fpr': 0.00020408163265306123, 'shd': 1, 'nnz': 51}\n",
      "Linear Model\n",
      "data size: 1000, graph type: ER, sem type: exp\n",
      "Accuracy of Golem after EV stage: {'fdr': 0.038461538461538464, 'tpr': 1.0, 'fpr': 0.00040816326530612246, 'shd': 2, 'nnz': 52}\n",
      "Accuracy of Golem after NV stage: {'fdr': 0.038461538461538464, 'tpr': 1.0, 'fpr': 0.00040816326530612246, 'shd': 2, 'nnz': 52}\n",
      "Linear Model\n",
      "data size: 1000, graph type: ER, sem type: exp\n",
      "Accuracy of Golem: {'fdr': 0.0297029702970297, 'tpr': 0.98, 'fpr': 0.0006185567010309278, 'shd': 4, 'nnz': 101}\n",
      "Linear Model\n",
      "data size: 1000, graph type: ER, sem type: exp\n",
      "Accuracy of Golem after EV stage: {'fdr': 0.05714285714285714, 'tpr': 0.99, 'fpr': 0.0012371134020618556, 'shd': 6, 'nnz': 105}\n",
      "Accuracy of Golem after NV stage: {'fdr': 0.07476635514018691, 'tpr': 0.99, 'fpr': 0.0016494845360824743, 'shd': 8, 'nnz': 107}\n",
      "Linear Model\n",
      "data size: 1000, graph type: ER, sem type: exp\n",
      "Accuracy of Golem: {'fdr': 0.205761316872428, 'tpr': 0.965, 'fpr': 0.010526315789473684, 'shd': 53, 'nnz': 243}\n",
      "Linear Model\n",
      "data size: 1000, graph type: ER, sem type: exp\n",
      "Accuracy of Golem after EV stage: {'fdr': 0.08018867924528301, 'tpr': 0.975, 'fpr': 0.0035789473684210526, 'shd': 17, 'nnz': 212}\n",
      "Accuracy of Golem after NV stage: {'fdr': 0.0761904761904762, 'tpr': 0.97, 'fpr': 0.003368421052631579, 'shd': 16, 'nnz': 210}\n",
      "Linear Model\n",
      "data size: 1000, graph type: ER, sem type: gumbel\n",
      "Accuracy of Golem: {'fdr': 0.0, 'tpr': 1.0, 'fpr': 0.0, 'shd': 0, 'nnz': 50}\n",
      "Linear Model\n",
      "data size: 1000, graph type: ER, sem type: gumbel\n",
      "Accuracy of Golem after EV stage: {'fdr': 0.057692307692307696, 'tpr': 0.98, 'fpr': 0.0006122448979591836, 'shd': 3, 'nnz': 52}\n",
      "Accuracy of Golem after NV stage: {'fdr': 0.057692307692307696, 'tpr': 0.98, 'fpr': 0.0006122448979591836, 'shd': 3, 'nnz': 52}\n",
      "Linear Model\n",
      "data size: 1000, graph type: ER, sem type: gumbel\n",
      "Accuracy of Golem: {'fdr': 0.6120689655172413, 'tpr': 0.9, 'fpr': 0.029278350515463916, 'shd': 143, 'nnz': 232}\n",
      "Linear Model\n",
      "data size: 1000, graph type: ER, sem type: gumbel\n",
      "Accuracy of Golem after EV stage: {'fdr': 0.029411764705882353, 'tpr': 0.99, 'fpr': 0.0006185567010309278, 'shd': 3, 'nnz': 102}\n",
      "Accuracy of Golem after NV stage: {'fdr': 0.029411764705882353, 'tpr': 0.99, 'fpr': 0.0006185567010309278, 'shd': 3, 'nnz': 102}\n",
      "Linear Model\n",
      "data size: 1000, graph type: ER, sem type: gumbel\n",
      "Accuracy of Golem: {'fdr': 0.4095238095238095, 'tpr': 0.93, 'fpr': 0.027157894736842107, 'shd': 131, 'nnz': 315}\n",
      "Linear Model\n",
      "data size: 1000, graph type: ER, sem type: gumbel\n",
      "Accuracy of Golem after EV stage: {'fdr': 0.2388663967611336, 'tpr': 0.94, 'fpr': 0.012421052631578947, 'shd': 61, 'nnz': 247}\n",
      "Accuracy of Golem after NV stage: {'fdr': 0.2125, 'tpr': 0.945, 'fpr': 0.010736842105263157, 'shd': 52, 'nnz': 240}\n"
     ]
    }
   ],
   "source": [
    "run_experiment(1)"
   ]
  }
 ],
 "metadata": {
  "kernelspec": {
   "display_name": "Python 3",
   "language": "python",
   "name": "python3"
  },
  "language_info": {
   "codemirror_mode": {
    "name": "ipython",
    "version": 3
   },
   "file_extension": ".py",
   "mimetype": "text/x-python",
   "name": "python",
   "nbconvert_exporter": "python",
   "pygments_lexer": "ipython3",
   "version": "3.11.9"
  }
 },
 "nbformat": 4,
 "nbformat_minor": 2
}
