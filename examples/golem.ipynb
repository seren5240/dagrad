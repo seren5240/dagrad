{
 "cells": [
  {
   "cell_type": "code",
   "execution_count": 1,
   "metadata": {},
   "outputs": [],
   "source": [
    "# Import all the necessary modules\n",
    "%load_ext autoreload\n",
    "%autoreload 2\n",
    "from dagrad import dagrad # dagrad is the main class for learning the structure of a DAG\n",
    "from dagrad import generate_linear_data, generate_nonlinear_data, count_accuracy\n",
    "import torch\n",
    "import numpy as np"
   ]
  },
  {
   "cell_type": "markdown",
   "metadata": {},
   "source": [
    "### Linear SEM - EV method"
   ]
  },
  {
   "cell_type": "code",
   "execution_count": 15,
   "metadata": {},
   "outputs": [],
   "source": [
    "def golem_ev(n, d, s0, graph_type, sem_type, seed=None):\n",
    "    X, W_true, B_true = generate_linear_data(n,d,s0,graph_type,sem_type,seed)\n",
    "    X = torch.from_numpy(X).float()\n",
    "    model = 'linear' # Define the model\n",
    "    W_golem = dagrad(\n",
    "        X,\n",
    "        model = model,\n",
    "        method = 'dagma',\n",
    "        compute_lib='torch',\n",
    "        loss_fn='user_loss',\n",
    "        reg='user_reg',\n",
    "        h_fn='user_h',\n",
    "        general_options={'user_params': {\n",
    "            'equal_variances': True,\n",
    "        }}\n",
    "    ) # Learn the structure of the DAG using Golem\n",
    "    print(f\"Linear Model\")\n",
    "    print(f\"data size: {n}, graph type: {graph_type}, sem type: {sem_type}\")\n",
    "\n",
    "    acc_golem = count_accuracy(B_true, W_golem != 0) # Measure the accuracy of the learned structure using Golem\n",
    "    print('Accuracy of Golem:', acc_golem)\n"
   ]
  },
  {
   "cell_type": "code",
   "execution_count": 16,
   "metadata": {},
   "outputs": [
    {
     "name": "stdout",
     "output_type": "stream",
     "text": [
      "Linear Model\n",
      "data size: 1000, graph type: ER, sem type: gauss\n",
      "Accuracy of Golem: {'fdr': 0.0, 'tpr': 1.0, 'fpr': 0.0, 'shd': 0, 'nnz': 50}\n"
     ]
    }
   ],
   "source": [
    "golem_ev(1000, 100, 50, 'ER', 'gauss', seed=2)"
   ]
  },
  {
   "cell_type": "code",
   "execution_count": 14,
   "metadata": {},
   "outputs": [
    {
     "name": "stdout",
     "output_type": "stream",
     "text": [
      "Linear Model\n",
      "data size: 1000, graph type: ER, sem type: gauss\n",
      "Accuracy of Dagma: {'fdr': 0.0, 'tpr': 1.0, 'fpr': 0.0, 'shd': 0, 'nnz': 50}\n"
     ]
    }
   ],
   "source": [
    "# ER1 graph with 100 nodes, as in https://arxiv.org/pdf/2006.10201 5.1\n",
    "n, d, s0, graph_type, sem_type = 1000, 100, 50, 'ER', 'gauss' # Define the parameters of the data\n",
    "X, W_true, B_true = generate_linear_data(n,d,s0,graph_type,sem_type,seed  =2) # Generate the data\n",
    "X = torch.from_numpy(X).float()\n",
    "model = 'linear' # Define the model\n",
    "W_dagma = dagrad(\n",
    "    X,\n",
    "    model = model,\n",
    "    method = 'dagma',\n",
    "    compute_lib='torch',\n",
    ") # Learn the structure of the DAG using Dagma\n",
    "print(f\"Linear Model\")\n",
    "print(f\"data size: {n}, graph type: {graph_type}, sem type: {sem_type}\")\n",
    "\n",
    "acc_dagma = count_accuracy(B_true, W_dagma != 0) # Measure the accuracy of the learned structure using Dagma\n",
    "print('Accuracy of Dagma:', acc_dagma)\n"
   ]
  },
  {
   "cell_type": "code",
   "execution_count": 17,
   "metadata": {},
   "outputs": [
    {
     "name": "stdout",
     "output_type": "stream",
     "text": [
      "Linear Model\n",
      "data size: 1000, graph type: ER, sem type: gauss\n",
      "Accuracy of Golem: {'fdr': 0.009950248756218905, 'tpr': 0.995, 'fpr': 0.0004210526315789474, 'shd': 2, 'nnz': 201}\n"
     ]
    }
   ],
   "source": [
    "golem_ev(1000, 100, 200, 'ER', 'gauss', seed=2)"
   ]
  },
  {
   "cell_type": "code",
   "execution_count": 5,
   "metadata": {},
   "outputs": [
    {
     "name": "stdout",
     "output_type": "stream",
     "text": [
      "Linear Model\n",
      "data size: 1000, graph type: ER, sem type: gauss\n",
      "Accuracy of Dagma: {'fdr': 0.0, 'tpr': 0.985, 'fpr': 0.0, 'shd': 3, 'nnz': 197}\n"
     ]
    }
   ],
   "source": [
    "# ER4 graph with 100 nodes, as in https://arxiv.org/pdf/2006.10201 5.1\n",
    "n, d, s0, graph_type, sem_type = 1000, 100, 200, 'ER', 'gauss' # Define the parameters of the data\n",
    "X, W_true, B_true = generate_linear_data(n,d,s0,graph_type,sem_type,seed  =2) # Generate the data\n",
    "X = torch.from_numpy(X).float()\n",
    "model = 'linear' # Define the model\n",
    "W_dagma = dagrad(\n",
    "    X,\n",
    "    model = model,\n",
    "    method = 'dagma',\n",
    "    compute_lib='torch',\n",
    ") # Learn the structure of the DAG using Dagma\n",
    "print(f\"Linear Model\")\n",
    "print(f\"data size: {n}, graph type: {graph_type}, sem type: {sem_type}\")\n",
    "\n",
    "acc_dagma = count_accuracy(B_true, W_dagma != 0) # Measure the accuracy of the learned structure using Dagma\n",
    "print('Accuracy of Dagma:', acc_dagma)\n"
   ]
  },
  {
   "cell_type": "markdown",
   "metadata": {},
   "source": [
    "### Linear SEM - Two-stage method"
   ]
  },
  {
   "cell_type": "code",
   "execution_count": 10,
   "metadata": {},
   "outputs": [
    {
     "name": "stdout",
     "output_type": "stream",
     "text": [
      "Linear Model\n",
      "data size: 1000, graph type: ER, sem type: gauss\n",
      "Accuracy of Golem after EV stage: {'fdr': 0.009950248756218905, 'tpr': 0.995, 'fpr': 0.0004210526315789474, 'shd': 2, 'nnz': 201}\n",
      "Accuracy of Golem after NV stage: {'fdr': 0.009950248756218905, 'tpr': 0.995, 'fpr': 0.0004210526315789474, 'shd': 2, 'nnz': 201}\n"
     ]
    }
   ],
   "source": [
    "# ER4 graph with 100 nodes, as in https://arxiv.org/pdf/2006.10201 5.1\n",
    "n, d, s0, graph_type, sem_type = 1000, 100, 200, 'ER', 'gauss' # Define the parameters of the data\n",
    "X, W_true, B_true = generate_linear_data(n,d,s0,graph_type,sem_type,seed  =2) # Generate the data\n",
    "X = torch.from_numpy(X).float()\n",
    "model = 'linear' # Define the model\n",
    "W_ev = dagrad(\n",
    "    X,\n",
    "    model = model,\n",
    "    method = 'dagma',\n",
    "    compute_lib='torch',\n",
    "    loss_fn='user_loss',\n",
    "    reg='user_reg',\n",
    "    h_fn='user_h',\n",
    "    general_options={'user_params': {\n",
    "        'equal_variances': True,\n",
    "    }}\n",
    ") # Learn the structure of the DAG using Golem\n",
    "print(f\"Linear Model\")\n",
    "print(f\"data size: {n}, graph type: {graph_type}, sem type: {sem_type}\")\n",
    "\n",
    "acc_ev = count_accuracy(B_true, W_ev != 0) # Measure the accuracy of the learned structure using Golem\n",
    "print('Accuracy of Golem after EV stage:', acc_ev)\n",
    "\n",
    "\n",
    "W_nv = dagrad(\n",
    "    X,\n",
    "    model = model,\n",
    "    method = 'dagma',\n",
    "    compute_lib='torch',\n",
    "    loss_fn='user_loss',\n",
    "    reg='user_reg',\n",
    "    h_fn='user_h',\n",
    "    general_options={'user_params': {\n",
    "        'equal_variances': False,\n",
    "    },\n",
    "    'initialization': W_ev}\n",
    ") \n",
    "\n",
    "acc_nv = count_accuracy(B_true, W_nv != 0) # Measure the accuracy of the learned structure using Golem\n",
    "print('Accuracy of Golem after NV stage:', acc_nv)\n"
   ]
  },
  {
   "cell_type": "code",
   "execution_count": 11,
   "metadata": {},
   "outputs": [
    {
     "name": "stdout",
     "output_type": "stream",
     "text": [
      "Linear Model\n",
      "data size: 1000, graph type: ER, sem type: exp\n",
      "Accuracy of Golem after EV stage: {'fdr': 0.09259259259259259, 'tpr': 0.98, 'fpr': 0.0010204081632653062, 'shd': 5, 'nnz': 54}\n",
      "Accuracy of Golem after NV stage: {'fdr': 0.14035087719298245, 'tpr': 0.98, 'fpr': 0.0016326530612244899, 'shd': 8, 'nnz': 57}\n"
     ]
    }
   ],
   "source": [
    "# ER1 graph with 100 nodes and exponential noise\n",
    "n, d, s0, graph_type, sem_type = 1000, 100, 50, 'ER', 'exp' # Define the parameters of the data\n",
    "X, W_true, B_true = generate_linear_data(n,d,s0,graph_type,sem_type,seed  =2) # Generate the data\n",
    "X = torch.from_numpy(X).float()\n",
    "model = 'linear' # Define the model\n",
    "W_ev = dagrad(\n",
    "    X,\n",
    "    model = model,\n",
    "    method = 'dagma',\n",
    "    compute_lib='torch',\n",
    "    loss_fn='user_loss',\n",
    "    reg='user_reg',\n",
    "    h_fn='user_h',\n",
    "    general_options={'user_params': {\n",
    "        'equal_variances': True,\n",
    "    }}\n",
    ") # Learn the structure of the DAG using Golem\n",
    "print(f\"Linear Model\")\n",
    "print(f\"data size: {n}, graph type: {graph_type}, sem type: {sem_type}\")\n",
    "\n",
    "acc_ev = count_accuracy(B_true, W_ev != 0) # Measure the accuracy of the learned structure using Golem\n",
    "print('Accuracy of Golem after EV stage:', acc_ev)\n",
    "\n",
    "\n",
    "W_nv = dagrad(\n",
    "    X,\n",
    "    model = model,\n",
    "    method = 'dagma',\n",
    "    compute_lib='torch',\n",
    "    loss_fn='user_loss',\n",
    "    reg='user_reg',\n",
    "    h_fn='user_h',\n",
    "    general_options={'user_params': {\n",
    "        'equal_variances': False,\n",
    "    },\n",
    "    'initialization': W_ev}\n",
    ") \n",
    "\n",
    "acc_nv = count_accuracy(B_true, W_nv != 0) # Measure the accuracy of the learned structure using Golem\n",
    "print('Accuracy of Golem after NV stage:', acc_nv)\n"
   ]
  },
  {
   "cell_type": "code",
   "execution_count": 12,
   "metadata": {},
   "outputs": [
    {
     "name": "stdout",
     "output_type": "stream",
     "text": [
      "Linear Model\n",
      "data size: 1000, graph type: ER, sem type: gauss\n",
      "Accuracy of Golem after EV stage: {'fdr': 0.0, 'tpr': 1.0, 'fpr': 0.0, 'shd': 0, 'nnz': 50}\n",
      "Accuracy of Golem after NV stage: {'fdr': 0.0, 'tpr': 1.0, 'fpr': 0.0, 'shd': 0, 'nnz': 50}\n"
     ]
    }
   ],
   "source": [
    "# ER1 graph with 100 nodes and gaussian noise\n",
    "n, d, s0, graph_type, sem_type = 1000, 100, 50, 'ER', 'gauss' # Define the parameters of the data\n",
    "X, W_true, B_true = generate_linear_data(n,d,s0,graph_type,sem_type,seed  =2) # Generate the data\n",
    "X = torch.from_numpy(X).float()\n",
    "model = 'linear' # Define the model\n",
    "W_ev = dagrad(\n",
    "    X,\n",
    "    model = model,\n",
    "    method = 'dagma',\n",
    "    compute_lib='torch',\n",
    "    loss_fn='user_loss',\n",
    "    reg='user_reg',\n",
    "    h_fn='user_h',\n",
    "    general_options={'user_params': {\n",
    "        'equal_variances': True,\n",
    "    }}\n",
    ") # Learn the structure of the DAG using Golem\n",
    "print(f\"Linear Model\")\n",
    "print(f\"data size: {n}, graph type: {graph_type}, sem type: {sem_type}\")\n",
    "\n",
    "acc_ev = count_accuracy(B_true, W_ev != 0) # Measure the accuracy of the learned structure using Golem\n",
    "print('Accuracy of Golem after EV stage:', acc_ev)\n",
    "\n",
    "\n",
    "W_nv = dagrad(\n",
    "    X,\n",
    "    model = model,\n",
    "    method = 'dagma',\n",
    "    compute_lib='torch',\n",
    "    loss_fn='user_loss',\n",
    "    reg='user_reg',\n",
    "    h_fn='user_h',\n",
    "    general_options={'user_params': {\n",
    "        'equal_variances': False,\n",
    "    },\n",
    "    'initialization': W_ev}\n",
    ") \n",
    "\n",
    "acc_nv = count_accuracy(B_true, W_nv != 0) # Measure the accuracy of the learned structure using Golem\n",
    "print('Accuracy of Golem after NV stage:', acc_nv)\n"
   ]
  },
  {
   "cell_type": "code",
   "execution_count": 13,
   "metadata": {},
   "outputs": [
    {
     "name": "stdout",
     "output_type": "stream",
     "text": [
      "Linear Model\n",
      "data size: 1000, graph type: ER, sem type: gumbel\n",
      "Accuracy of Golem after EV stage: {'fdr': 0.09259259259259259, 'tpr': 0.98, 'fpr': 0.0010204081632653062, 'shd': 5, 'nnz': 54}\n",
      "Accuracy of Golem after NV stage: {'fdr': 0.09259259259259259, 'tpr': 0.98, 'fpr': 0.0010204081632653062, 'shd': 5, 'nnz': 54}\n"
     ]
    }
   ],
   "source": [
    "# ER1 graph with 100 nodes and gumbel noise\n",
    "n, d, s0, graph_type, sem_type = 1000, 100, 50, 'ER', 'gumbel' # Define the parameters of the data\n",
    "X, W_true, B_true = generate_linear_data(n,d,s0,graph_type,sem_type,seed  =2) # Generate the data\n",
    "X = torch.from_numpy(X).float()\n",
    "model = 'linear' # Define the model\n",
    "W_ev = dagrad(\n",
    "    X,\n",
    "    model = model,\n",
    "    method = 'dagma',\n",
    "    compute_lib='torch',\n",
    "    loss_fn='user_loss',\n",
    "    reg='user_reg',\n",
    "    h_fn='user_h',\n",
    "    general_options={'user_params': {\n",
    "        'equal_variances': True,\n",
    "    }}\n",
    ") # Learn the structure of the DAG using Golem\n",
    "print(f\"Linear Model\")\n",
    "print(f\"data size: {n}, graph type: {graph_type}, sem type: {sem_type}\")\n",
    "\n",
    "acc_ev = count_accuracy(B_true, W_ev != 0) # Measure the accuracy of the learned structure using Golem\n",
    "print('Accuracy of Golem after EV stage:', acc_ev)\n",
    "\n",
    "\n",
    "W_nv = dagrad(\n",
    "    X,\n",
    "    model = model,\n",
    "    method = 'dagma',\n",
    "    compute_lib='torch',\n",
    "    loss_fn='user_loss',\n",
    "    reg='user_reg',\n",
    "    h_fn='user_h',\n",
    "    general_options={'user_params': {\n",
    "        'equal_variances': False,\n",
    "    },\n",
    "    'initialization': W_ev}\n",
    ") \n",
    "\n",
    "acc_nv = count_accuracy(B_true, W_nv != 0) # Measure the accuracy of the learned structure using Golem\n",
    "print('Accuracy of Golem after NV stage:', acc_nv)\n"
   ]
  },
  {
   "cell_type": "code",
   "execution_count": null,
   "metadata": {},
   "outputs": [],
   "source": []
  },
  {
   "cell_type": "code",
   "execution_count": null,
   "metadata": {},
   "outputs": [],
   "source": []
  }
 ],
 "metadata": {
  "kernelspec": {
   "display_name": "Python 3",
   "language": "python",
   "name": "python3"
  },
  "language_info": {
   "codemirror_mode": {
    "name": "ipython",
    "version": 3
   },
   "file_extension": ".py",
   "mimetype": "text/x-python",
   "name": "python",
   "nbconvert_exporter": "python",
   "pygments_lexer": "ipython3",
   "version": "3.11.9"
  }
 },
 "nbformat": 4,
 "nbformat_minor": 2
}
